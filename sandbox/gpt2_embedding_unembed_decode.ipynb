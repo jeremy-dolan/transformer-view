{
 "cells": [
  {
   "cell_type": "code",
   "execution_count": 1,
   "metadata": {},
   "outputs": [
    {
     "name": "stdout",
     "output_type": "stream",
     "text": [
      "Requirement already satisfied: numpy~=1.0 in ./.venv/lib/python3.12/site-packages (1.26.4)\n",
      "Note: you may need to restart the kernel to use updated packages.\n",
      "Note: you may need to restart the kernel to use updated packages.\n",
      "Note: you may need to restart the kernel to use updated packages.\n",
      "Note: you may need to restart the kernel to use updated packages.\n"
     ]
    }
   ],
   "source": [
    "%pip install numpy~=1.0\n",
    "%pip install torch -q\n",
    "%pip install transformers -q\n",
    "%pip install matplotlib -q\n",
    "\n",
    "import math\n",
    "import torch\n",
    "from transformers import GPT2LMHeadModel, GPT2Tokenizer, GPT2Model\n",
    "\n",
    "tokenizer = GPT2Tokenizer.from_pretrained(\"gpt2\")\n",
    "model_headless = GPT2Model.from_pretrained(\"gpt2\")\n",
    "model_tied_unembed = GPT2LMHeadModel.from_pretrained(\"gpt2\")"
   ]
  },
  {
   "cell_type": "code",
   "execution_count": 2,
   "metadata": {},
   "outputs": [
    {
     "name": "stdout",
     "output_type": "stream",
     "text": [
      "Input token IDs: tensor([[ 8291, 16354, 16326]])\n"
     ]
    }
   ],
   "source": [
    "input_string = \"Transformer tokens\"\n",
    "tokens = tokenizer(input_string, return_tensors=\"pt\")\n",
    "token_ids = tokens.input_ids\n",
    "print(\"Input token IDs:\", token_ids)"
   ]
  },
  {
   "cell_type": "code",
   "execution_count": 3,
   "metadata": {},
   "outputs": [
    {
     "name": "stdout",
     "output_type": "stream",
     "text": [
      "torch.Size([1, 3, 50257])\n",
      "torch.Size([1, 50257])\n",
      "logits\t tensor([[-102.2224, -102.7583, -103.2500, -103.6413, -103.6857, -103.7877,\n",
      "         -103.8186, -103.8804, -103.8891, -103.9821]])\n",
      "ids\t tensor([[389,  13,  11, 357, 287, 284, 198, 460, 326, 481]])\n",
      "\n",
      "Output probability distributions for varying temperature (top-k=10)\n",
      "tok_id\t token\t   T=1.0   T=0.5   T=1.5\n",
      "389\t' are'     29.6%   56.5%   21.6%\n",
      "13\t'.'        17.3%   19.4%   15.1%\n",
      "11\t','        10.6%    7.2%   10.9%\n",
      "357\t' ('        7.2%    3.3%    8.4%\n",
      "287\t' in'       6.8%    3.0%    8.1%\n",
      "284\t' to'       6.2%    2.5%    7.6%\n",
      "198\t'\\n'        6.0%    2.3%    7.4%\n",
      "460\t' can'      5.6%    2.1%    7.1%\n",
      "326\t' that'     5.6%    2.0%    7.1%\n",
      "481\t' will'     5.1%    1.7%    6.7%\n"
     ]
    }
   ],
   "source": [
    "with torch.no_grad():\n",
    "    outputs = model_tied_unembed(tokens.input_ids, use_cache=False)\n",
    "logits = outputs.logits\n",
    "print(logits.shape)\n",
    "\n",
    "# logits for the last token:\n",
    "final_token_logits = logits[:, -1, :]\n",
    "print(final_token_logits.shape)\n",
    "\n",
    "top_10_logits, top_10_token_indices = torch.topk(final_token_logits, 10, dim=-1)\n",
    "print('logits\\t', top_10_logits)\n",
    "print('ids\\t', top_10_token_indices)\n",
    "\n",
    "softmax = torch.nn.Softmax(dim=-1)\n",
    "\n",
    "probs = softmax(top_10_logits)\n",
    "\n",
    "cold_temp = 0.5\n",
    "top_10_logits_cold = top_10_logits / cold_temp\n",
    "probs_cold = softmax(top_10_logits_cold)\n",
    "\n",
    "hot_temp = 1.5\n",
    "top_10_logits_hot = top_10_logits / hot_temp\n",
    "probs_hot = softmax(top_10_logits_hot)\n",
    "\n",
    "print('\\nOutput probability distributions for varying temperature (top-k=10)')\n",
    "print(f'tok_id\\t token\\t   T=1.0   T=0.5   T=1.5')\n",
    "for i in range(10):\n",
    "    tok_id = top_10_token_indices[0][i]\n",
    "    token = repr(tokenizer.decode(tok_id))  # using repr() to escape e.g. new lines\n",
    "    prob = probs[0][i]*100\n",
    "    prob_cold = probs_cold[0][i]*100\n",
    "    prob_hot = probs_hot[0][i]*100\n",
    "    print(f'{tok_id.item()}\\t{token:10s}{prob:5.1f}%  {prob_cold:5.1f}%  {prob_hot:5.1f}%')"
   ]
  },
  {
   "cell_type": "code",
   "execution_count": 4,
   "metadata": {},
   "outputs": [
    {
     "name": "stdout",
     "output_type": "stream",
     "text": [
      "odict_keys(['logits'])\n"
     ]
    },
    {
     "data": {
      "text/plain": [
       "CausalLMOutputWithCrossAttentions(loss=None, logits=tensor([[[ -27.1873,  -26.1459,  -28.7534,  ...,  -35.2827,  -35.1941,\n",
       "           -27.1063],\n",
       "         [ -72.1955,  -68.4561,  -69.9005,  ...,  -80.4494,  -76.7446,\n",
       "           -70.7487],\n",
       "         [-107.4842, -106.8489, -110.9719,  ..., -119.1011, -116.9099,\n",
       "          -108.4834]]]), past_key_values=None, hidden_states=None, attentions=None, cross_attentions=None)"
      ]
     },
     "execution_count": 4,
     "metadata": {},
     "output_type": "execute_result"
    }
   ],
   "source": [
    "print(outputs.keys())\n",
    "outputs"
   ]
  },
  {
   "cell_type": "code",
   "execution_count": 5,
   "metadata": {},
   "outputs": [
    {
     "name": "stdout",
     "output_type": "stream",
     "text": [
      "Transformer tokens are not available for use in the game.\n",
      "\n",
      "The following table lists the tokens that can be used in the game.\n",
      "\n",
      "Token Name Description 1 2 3 4 5 6 7 8 9 10 11 12 13 14 15 16 17\n"
     ]
    }
   ],
   "source": [
    "# autoregressive test\n",
    "with torch.no_grad():\n",
    "    full_gen_output = model_tied_unembed.generate(inputs=tokens.input_ids,\n",
    "                                     attention_mask=tokens.attention_mask,\n",
    "                                     use_cache=False,\n",
    "                                     pad_token_id=tokenizer.eos_token_id,\n",
    "                                     max_length=50)\n",
    "\n",
    "generated_text = tokenizer.decode(full_gen_output[0])\n",
    "print(generated_text)"
   ]
  },
  {
   "cell_type": "code",
   "execution_count": 6,
   "metadata": {},
   "outputs": [
    {
     "name": "stdout",
     "output_type": "stream",
     "text": [
      "Token 1: torch.Size([768]) min -0.5692750215530396 max 0.3343436121940613\n",
      "Token 1: torch.Size([768]) min -0.5692750215530396 max 0.3343436121940613\n",
      "Token 2: torch.Size([768]) min -0.6863736510276794 max 0.3896985948085785\n",
      "Token 2: torch.Size([768]) min -0.6863736510276794 max 0.3896985948085785\n",
      "Token 3: torch.Size([768]) min -0.42473170161247253 max 0.6322500109672546\n",
      "Token 3: torch.Size([768]) min -0.42473170161247253 max 0.6322500109672546\n"
     ]
    }
   ],
   "source": [
    "embedding_layer = model_headless.get_input_embeddings()\n",
    "\n",
    "for i, tok in enumerate(token_ids.flatten()):\n",
    "    # these are identical...\n",
    "    embed1 = embedding_layer(tok)\n",
    "    embed2 = model_headless.wte.weight[tok]\n",
    "    for e1, e2 in zip(embed1, embed2):\n",
    "        if e1 != e2:\n",
    "            print('mismatch!')\n",
    "    print(f'Token {i+1}: {embed1.shape} min {torch.min(embed1)} max {torch.max(embed1)}')\n",
    "    print(f'Token {i+1}: {embed2.shape} min {torch.min(embed2)} max {torch.max(embed2)}')"
   ]
  },
  {
   "cell_type": "code",
   "execution_count": 7,
   "metadata": {},
   "outputs": [
    {
     "name": "stdout",
     "output_type": "stream",
     "text": [
      "tensor(-1.2698, grad_fn=<MinBackward1>) tensor(1.7852, grad_fn=<MaxBackward1>)\n"
     ]
    }
   ],
   "source": [
    "global_min = float('inf')\n",
    "global_max = float('-inf')\n",
    "\n",
    "for tok_id in range(50257):\n",
    "  embed = embedding_layer(torch.tensor(tok_id))\n",
    "  if torch.min(embed) < global_min:\n",
    "    global_min = torch.min(embed)\n",
    "  if torch.max(embed) > global_max:\n",
    "    global_max = torch.max(embed)\n",
    "print(global_min, global_max)"
   ]
  },
  {
   "cell_type": "code",
   "execution_count": 8,
   "metadata": {},
   "outputs": [
    {
     "name": "stdout",
     "output_type": "stream",
     "text": [
      "GPT-2 token embeddings: torch.Size([50257, 768])\n",
      "min -1.26982 max 1.78516 mean 0.00038\n",
      "\n",
      "GPT-2 position embeddings: torch.Size([1024, 768])\n",
      "min -4.53811 max 4.06531 mean -0.00068\n"
     ]
    }
   ],
   "source": [
    "token_embeddings = model_headless.wte.weight\n",
    "position_embeddings = model_headless.wpe.weight\n",
    "\n",
    "te_min = torch.min(token_embeddings).item()\n",
    "te_max = torch.max(token_embeddings).item()\n",
    "te_mean = torch.mean(token_embeddings).item()\n",
    "pe_min = torch.min(position_embeddings).item()\n",
    "pe_max = torch.max(position_embeddings).item()\n",
    "pe_mean = torch.mean(position_embeddings).item()\n",
    "\n",
    "# format with precision .5f\n",
    "p = lambda x: f'{x:.5f}'\n",
    "\n",
    "print('GPT-2 token embeddings:',    token_embeddings.shape)\n",
    "print(f'min {p(te_min)} max {p(te_max)} mean {p(te_mean)}\\n')\n",
    "\n",
    "print('GPT-2 position embeddings:', position_embeddings.shape)\n",
    "print(f'min {p(pe_min)} max {p(pe_max)} mean {p(pe_mean)}')"
   ]
  },
  {
   "cell_type": "code",
   "execution_count": 9,
   "metadata": {},
   "outputs": [
    {
     "name": "stdout",
     "output_type": "stream",
     "text": [
      "displaying embeddings for token id 8291 at pos 0\n",
      "te: tensor([ 0.129,  0.055,  0.176, -0.061, -0.118,  0.041, -0.217, -0.078, -0.123])\n",
      "pe: tensor([-0.019, -0.197,  0.004,  0.011,  0.064, -0.105,  0.037, -0.168, -0.049])\n",
      "ie: tensor([ 0.110, -0.142,  0.180, -0.050, -0.054, -0.064, -0.180, -0.246, -0.173])\n",
      "input embed min -4.560337543487549, input embed max 3.768101453781128\n",
      "displaying embeddings for token id 16354 at pos 1\n",
      "te: tensor([ 0.087, -0.009,  0.285,  0.097, -0.074, -0.266, -0.274, -0.176, -0.077])\n",
      "pe: tensor([ 0.024, -0.054, -0.095, -0.013, -0.010,  0.031,  0.051,  0.185,  0.044])\n",
      "ie: tensor([ 0.111, -0.062,  0.190,  0.084, -0.084, -0.235, -0.223,  0.009, -0.033])\n",
      "input embed min -1.4507211446762085, input embed max 1.5265089273452759\n",
      "displaying embeddings for token id 16326 at pos 2\n",
      "te: tensor([ 0.132, -0.019,  0.016, -0.122, -0.229,  0.189, -0.310,  0.018, -0.087])\n",
      "pe: tensor([ 0.004, -0.085,  0.055, -0.005, -0.026,  0.015,  0.026,  0.059, -0.005])\n",
      "ie: tensor([ 0.136, -0.103,  0.071, -0.127, -0.255,  0.204, -0.284,  0.077, -0.092])\n",
      "input embed min -1.2831257581710815, input embed max 1.4215716123580933\n"
     ]
    }
   ],
   "source": [
    "torch.set_printoptions(sci_mode=False, precision=3)\n",
    "\n",
    "hex_values = []\n",
    "for pos, tok in enumerate(token_ids[0]):\n",
    "    print(f'displaying embeddings for token id {tok} at pos {pos}')\n",
    "    te = model_headless.wte.weight[tok].detach()\n",
    "    pe = model_headless.wpe.weight[pos].detach()\n",
    "    ie = te+pe\n",
    "    print(f'te: {te[0:9]}')\n",
    "    print(f'pe: {pe[0:9]}')\n",
    "    print(f'ie: {ie[0:9]}')\n",
    "    print(f'input embed min {torch.min(ie)}, input embed max {torch.max(ie)}')\n",
    "\n",
    "    components = list(range(128-3)) + [-3, -2, -1] # inspect first 125 and last 3\n",
    "\n",
    "    hex_values.append([])\n",
    "\n",
    "    for component in components:\n",
    "        # convert each component's magnitude to a shade of gray\n",
    "\n",
    "        magnitude = min(max(ie[component].item(), -3), 3)  # floor, ceiling of -3, 3\n",
    "        normed = (magnitude + 3) / 6\n",
    "        eight_bit_scale = round(normed * 255)\n",
    "        # print(f'{component}: {eight_bit_scale}')\n",
    "        hex_values[pos].append(component)\n",
    "\n",
    "torch.set_printoptions(profile=\"default\")"
   ]
  },
  {
   "cell_type": "code",
   "execution_count": 10,
   "metadata": {},
   "outputs": [
    {
     "data": {
      "image/png": "[encoded data removed]",
      "text/plain": [
       "<Figure size 640x480 with 1 Axes>"
      ]
     },
     "metadata": {},
     "output_type": "display_data"
    }
   ],
   "source": [
    "import matplotlib.pyplot as plt\n",
    "\n",
    "# convert to ndarray\n",
    "token_values = token_embeddings.detach().numpy().flatten()\n",
    "position_values = position_embeddings.detach().numpy().flatten()\n",
    "\n",
    "# histogram\n",
    "plt.hist(token_values, bins=100, alpha=0.5, label='Token Embeddings')\n",
    "plt.hist(position_values, bins=100, alpha=0.5, label='Position Embeddings')\n",
    "plt.legend()\n",
    "plt.xlabel('Value')\n",
    "plt.ylabel('Frequency')\n",
    "plt.show()"
   ]
  },
  {
   "cell_type": "code",
   "execution_count": 12,
   "metadata": {},
   "outputs": [
    {
     "name": "stdout",
     "output_type": "stream",
     "text": [
      "logits\t tensor([[ -94.9980,  -98.1901,  -99.6383,  -99.6800,  -99.9885, -100.4567,\n",
      "         -100.5085, -101.0051, -101.0531, -101.0559]])\n",
      "ids\t tensor([[16039,   656,   736,   284,   287, 10574,   866, 14917,   319,   625]])\n",
      "\n",
      "Output probability distributions for varying temperature (top-k=10)\n",
      "tok_id\t token\t       T=1.0   T=0.5   T=1.5\n",
      "16039\t' asleep'      92.4%   99.8%   74.1%\n",
      "656\t' into'         3.8%    0.2%    8.8%\n",
      "736\t' back'         0.9%    0.0%    3.4%\n",
      "284\t' to'           0.9%    0.0%    3.3%\n",
      "287\t' in'           0.6%    0.0%    2.7%\n",
      "10574\t' silent'       0.4%    0.0%    1.9%\n",
      "866\t' down'         0.4%    0.0%    1.9%\n",
      "14917\t' unconscious'  0.2%    0.0%    1.4%\n",
      "319\t' on'           0.2%    0.0%    1.3%\n",
      "625\t' over'         0.2%    0.0%    1.3%\n"
     ]
    }
   ],
   "source": [
    "# for comparison: how high are logits for very obvious predictions?\n",
    "\n",
    "input_string = \"I crawled into bed, closed my eyes, and went to\" # sleep: -75, 75%\n",
    "input_string = \"I crawled into bed, closed my eyes, and fell\" # asleep: -95, 92%\n",
    "token_ids = tokenizer(input_string, return_tensors=\"pt\").input_ids\n",
    "\n",
    "with torch.no_grad():\n",
    "    outputs = model_tied_unembed(token_ids, use_cache=False)\n",
    "logits = outputs.logits\n",
    "final_token_logits = logits[:, -1, :]\n",
    "\n",
    "top_10_logits, top_10_token_indices = torch.topk(final_token_logits, 10, dim=-1)\n",
    "print('logits\\t', top_10_logits)\n",
    "print('ids\\t', top_10_token_indices)\n",
    "\n",
    "softmax = torch.nn.Softmax(dim=-1)\n",
    "\n",
    "probs = softmax(top_10_logits)\n",
    "\n",
    "cold_temp = 0.5\n",
    "top_10_logits_cold = top_10_logits / cold_temp\n",
    "probs_cold = softmax(top_10_logits_cold)\n",
    "\n",
    "hot_temp = 1.5\n",
    "top_10_logits_hot = top_10_logits / hot_temp\n",
    "probs_hot = softmax(top_10_logits_hot)\n",
    "\n",
    "print('\\nOutput probability distributions for varying temperature (top-k=10)')\n",
    "print(f'tok_id\\t token\\t       T=1.0   T=0.5   T=1.5')\n",
    "for i in range(10):\n",
    "    tok_id = top_10_token_indices[0][i]\n",
    "    token = repr(tokenizer.decode(tok_id))  # using repr() to escape e.g. new lines\n",
    "    prob = probs[0][i]*100\n",
    "    prob_cold = probs_cold[0][i]*100\n",
    "    prob_hot = probs_hot[0][i]*100\n",
    "    print(f'{tok_id.item()}\\t{token:14s}{prob:5.1f}%  {prob_cold:5.1f}%  {prob_hot:5.1f}%')"
   ]
  },
  {
   "cell_type": "code",
   "execution_count": 13,
   "metadata": {},
   "outputs": [
    {
     "name": "stdout",
     "output_type": "stream",
     "text": [
      "==================== Unscaled softmax ====================\n",
      "my softmax: ['0.0152', '0.0413', '0.1124', '0.8303', '0.0008']\n",
      "torch smax: ['0.0152', '0.0413', '0.1124', '0.8303', '0.0008']\n",
      "==================== Temperature 1 ====================\n",
      "prescaling: ['0.0152', '0.0413', '0.1124', '0.8303', '0.0008']\n",
      "sftmaxtemp: ['0.0152', '0.0413', '0.1124', '0.8303', '0.0008']\n",
      "torch smax: ['0.0152', '0.0413', '0.1124', '0.8303', '0.0008']\n",
      "==================== Temperature 0.3 ====================\n",
      "prescaling: ['0.0000', '0.0000', '0.0013', '0.9987', '0.0000']\n",
      "sftmaxtemp: ['0.0000', '0.0000', '0.0013', '0.9987', '0.0000']\n",
      "torch smax: ['0.0000', '0.0000', '0.0013', '0.9987', '0.0000']\n",
      "==================== Temperature 1.85 ====================\n",
      "prescaling: ['0.0687', '0.1180', '0.2026', '0.5972', '0.0136']\n",
      "sftmaxtemp: ['0.0687', '0.1180', '0.2026', '0.5972', '0.0136']\n",
      "torch smax: ['0.0687', '0.1180', '0.2026', '0.5972', '0.0136']\n",
      "==================== Temperature 10 ====================\n",
      "prescaling: ['0.1799', '0.1988', '0.2197', '0.2684', '0.1333']\n",
      "sftmaxtemp: ['0.1799', '0.1988', '0.2197', '0.2684', '0.1333']\n",
      "torch smax: ['0.1799', '0.1988', '0.2197', '0.2684', '0.1333']\n"
     ]
    }
   ],
   "source": [
    "# convince myself temperature scaling before softmax is the same as within softmax\n",
    "PRECISION = 4\n",
    "V = [1., 2., 3., 5., -2.]\n",
    "T = torch.tensor(V)\n",
    "\n",
    "def softmax(vec, temp=1):\n",
    "    denominator = sum(math.exp(x / temp) for x in vec)\n",
    "    return [math.exp(e / temp) / denominator for e in vec]\n",
    "\n",
    "print('=' * 20, 'Unscaled softmax', '=' * 20)\n",
    "print('my softmax: ', end='')\n",
    "print([f\"{v:.{PRECISION}f}\" for v in softmax(V)])\n",
    "print('torch smax: ', end='')\n",
    "print([f'{v.item():.{PRECISION}f}' for v in torch.softmax(T, dim=0)])\n",
    "\n",
    "for temp in 1, 0.3, 1.85, 10:\n",
    "    print('=' * 20, 'Temperature', temp, '=' * 20)\n",
    "    print('prescaling: ', end='')\n",
    "    print([f'{psv:.{PRECISION}f}' for psv in softmax([v / temp for v in V])])\n",
    "    print('sftmaxtemp: ', end='')\n",
    "    print([f'{smt:.{PRECISION}f}' for smt in softmax(V, temp)])\n",
    "    print('torch smax: ', end='')\n",
    "    print([f'{tsmt:.{PRECISION}f}' for tsmt in torch.softmax(T / temp, dim=0)])"
   ]
  }
 ],
 "metadata": {
  "kernelspec": {
   "display_name": ".venv",
   "language": "python",
   "name": "python3"
  },
  "language_info": {
   "codemirror_mode": {
    "name": "ipython",
    "version": 3
   },
   "file_extension": ".py",
   "mimetype": "text/x-python",
   "name": "python",
   "nbconvert_exporter": "python",
   "pygments_lexer": "ipython3",
   "version": "3.12.5"
  }
 },
 "nbformat": 4,
 "nbformat_minor": 2
}
