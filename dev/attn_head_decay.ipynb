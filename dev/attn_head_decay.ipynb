{
 "cells": [
  {
   "cell_type": "markdown",
   "metadata": {
    "id": "mpkDNNZkR158"
   },
   "source": [
    "Exponential decay of shape/size/shadow for stack of attention heads"
   ]
  },
  {
   "cell_type": "code",
   "execution_count": 1,
   "metadata": {
    "id": "c3PBAYvdIprK",
    "outputId": "f1cb55a4-55b0-4ce6-8779-c929795e69c7"
   },
   "outputs": [
    {
     "name": "stdout",
     "output_type": "stream",
     "text": [
      "Offsets: [0, 4.0, 3.76, 3.54, 3.33, 3.14, 2.95, 2.78, 2.61, 2.46, 2.31, 2.18]\n",
      "Cumulative Offsets: [0, 4.0, 7.76, 11.31, 14.64, 17.78, 20.73, 23.5, 26.12, 28.58, 30.89, 33.07]\n",
      "Gradient: ['ffffff', 'fafafa', 'f5f5f5', 'f1f1f1', 'ececec', 'e8e8e8', 'e5e5e5', 'e1e1e1', 'dedede', 'dbdbdb', 'd8d8d8', 'd5d5d5']\n",
      "\n",
      "Head  1: x=500     y=1338     height=604.0    color=ffffff\n",
      "Head  2: x=504.0   y=1342.0   height=598.0    color=fafafa\n",
      "Head  3: x=507.76  y=1345.76  height=592.36   color=f5f5f5\n",
      "Head  4: x=511.31  y=1349.31  height=587.035  color=f1f1f1\n",
      "Head  5: x=514.64  y=1352.64  height=582.04   color=ececec\n",
      "Head  6: x=517.78  y=1355.78  height=577.33   color=e8e8e8\n",
      "Head  7: x=520.73  y=1358.73  height=572.905  color=e5e5e5\n",
      "Head  8: x=523.5   y=1361.5   height=568.75   color=e1e1e1\n",
      "Head  9: x=526.12  y=1364.12  height=564.82   color=dedede\n",
      "Head 10: x=528.58  y=1366.58  height=561.13   color=dbdbdb\n",
      "Head 11: x=530.89  y=1368.89  height=557.665  color=d8d8d8\n",
      "Head 12: x=533.07  y=1371.07  height=554.395  color=d5d5d5\n"
     ]
    }
   ],
   "source": [
    "# initial position and size\n",
    "ix = 500\n",
    "iy = 1338\n",
    "iheight = 604\n",
    "initial_offset = 4\n",
    "\n",
    "# start and end colors for gradient\n",
    "start_color = \"ffffff\"\n",
    "end_color = \"d5d5d5\"\n",
    "\n",
    "# dynamics\n",
    "decay_rate = 0.941\n",
    "iterations = 12\n",
    "\n",
    "def decay_shape(d0, r, iterations):\n",
    "    offsets = [0] # use ix, iy for first head\n",
    "    for n in range(iterations):\n",
    "        offset = d0 * (r ** (n))\n",
    "        offsets.append(offset)\n",
    "    return offsets\n",
    "\n",
    "def decay_color(fore, back, r, iterations):\n",
    "    # convert hex string to RGB tuple:\n",
    "    start_rgb = tuple(int(fore[i:i+2], base=16) for i in (0, 2, 4))\n",
    "    end_rgb = tuple(int(back[i:i+2], base=16) for i in (0, 2, 4))\n",
    "\n",
    "    # calculate per-channel scaling factor so we end on 'back' after 'iterations':\n",
    "    scale_factors = [(end_rgb[i] - start_rgb[i]) / (1 - r ** iterations) for i in range(3)]\n",
    "\n",
    "    colors = []\n",
    "    for n in range(iterations+1):\n",
    "        color = [\n",
    "            round(start_rgb[channel] + ( scale_factors[channel] * (1-(r**(n)))) )\n",
    "            for channel in range(3)\n",
    "        ]\n",
    "        colors.append('{:02x}{:02x}{:02x}'.format(*color))\n",
    "\n",
    "    return colors\n",
    "\n",
    "offsets = decay_shape(initial_offset, decay_rate, iterations-1)\n",
    "gradient = decay_color(start_color, end_color, decay_rate, iterations-1)\n",
    "\n",
    "from itertools import accumulate\n",
    "cumulative_offsets = [round(offset, 2) for offset in accumulate(offsets)]\n",
    "\n",
    "print(\"Offsets:\", [round(offset, 2) for offset in offsets])\n",
    "print(\"Cumulative Offsets:\", cumulative_offsets)\n",
    "print(\"Gradient:\", gradient)\n",
    "print(\"\")\n",
    "for i, offset in enumerate(cumulative_offsets):\n",
    "    print(f\"Head {i+1:2}: x={ix + offset:<7} y={iy + offset:<8} height={iheight-(offset*1.5):<8} color={gradient[i]}\")"
   ]
  }
 ],
 "metadata": {
  "kernelspec": {
   "display_name": "Python 3",
   "name": "python3"
  },
  "language_info": {
   "codemirror_mode": {
    "name": "ipython",
    "version": 3
   },
   "file_extension": ".py",
   "mimetype": "text/x-python",
   "name": "python",
   "nbconvert_exporter": "python",
   "pygments_lexer": "ipython3",
   "version": "3.12.5"
  }
 },
 "nbformat": 4,
 "nbformat_minor": 0
}
